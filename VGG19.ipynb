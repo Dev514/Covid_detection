{
  "nbformat": 4,
  "nbformat_minor": 0,
  "metadata": {
    "colab": {
      "name": "VGG19.ipynb",
      "provenance": [],
      "toc_visible": true,
      "authorship_tag": "ABX9TyNQWPJ/1snoor5yKLFNMaJW",
      "include_colab_link": true
    },
    "kernelspec": {
      "name": "python3",
      "display_name": "Python 3"
    },
    "language_info": {
      "name": "python"
    },
    "accelerator": "GPU"
  },
  "cells": [
    {
      "cell_type": "markdown",
      "metadata": {
        "id": "view-in-github",
        "colab_type": "text"
      },
      "source": [
        "<a href=\"https://colab.research.google.com/github/Dev514/Covid_detection/blob/main/VGG19.ipynb\" target=\"_parent\"><img src=\"https://colab.research.google.com/assets/colab-badge.svg\" alt=\"Open In Colab\"/></a>"
      ]
    },
    {
      "cell_type": "markdown",
      "metadata": {
        "id": "kUJSITdkLeAk"
      },
      "source": [
        "## **Covid_Detection using VGG19 architecture**\n"
      ]
    },
    {
      "cell_type": "code",
      "metadata": {
        "colab": {
          "base_uri": "https://localhost:8080/"
        },
        "id": "ymGM_Z46lSTz",
        "outputId": "9ec0ceea-7b14-48bf-f23f-9b1fe53c6676"
      },
      "source": [
        "from google.colab import drive\n",
        "drive.mount('/content/gdrive')"
      ],
      "execution_count": null,
      "outputs": [
        {
          "output_type": "stream",
          "text": [
            "Mounted at /content/gdrive\n"
          ],
          "name": "stdout"
        }
      ]
    },
    {
      "cell_type": "code",
      "metadata": {
        "id": "J8KSTWLrryaW"
      },
      "source": [
        "from tensorflow.keras.models import Sequential\n",
        "from tensorflow.keras.layers import BatchNormalization\n",
        "from tensorflow.keras.layers import Conv2D\n",
        "from tensorflow.keras.layers import MaxPooling2D\n",
        "from tensorflow.keras.layers import Activation\n",
        "from tensorflow.keras.layers import Flatten\n",
        "from tensorflow.keras.layers import Dropout\n",
        "from tensorflow.keras.layers import Dense\n",
        "from tensorflow.keras import backend as K"
      ],
      "execution_count": null,
      "outputs": []
    },
    {
      "cell_type": "code",
      "metadata": {
        "id": "1I_7Bt0IDuzP"
      },
      "source": [
        "from tensorflow.keras.preprocessing.image import ImageDataGenerator\n",
        "from tensorflow.keras.optimizers import Adam\n",
        "from tensorflow.keras.preprocessing.image import img_to_array\n",
        "from sklearn.preprocessing import LabelBinarizer\n",
        "from sklearn.model_selection import train_test_split\n",
        "import matplotlib.pyplot as plt\n",
        "from imutils import paths\n",
        "import numpy as np\n",
        "from numpy import asarray\n",
        "import argparse\n",
        "import random\n",
        "import tensorflow as tf\n",
        "import pickle\n",
        "import imutils\n",
        "import cv2\n",
        "import csv\n",
        "import os\n",
        "import gc\n",
        "import keras\n",
        "from keras import Model"
      ],
      "execution_count": null,
      "outputs": []
    },
    {
      "cell_type": "code",
      "metadata": {
        "id": "Phfnw7g8Fawz"
      },
      "source": [
        "train_datagen= ImageDataGenerator(rescale=1./255,rotation_range=25, width_shift_range=0.1,\n",
        "\theight_shift_range=0.1, shear_range=0.2, zoom_range=0.2,\n",
        "\thorizontal_flip=True, fill_mode=\"nearest\")\n",
        "\n",
        "test_datagen=ImageDataGenerator(rescale=1./255)"
      ],
      "execution_count": null,
      "outputs": []
    },
    {
      "cell_type": "code",
      "metadata": {
        "colab": {
          "base_uri": "https://localhost:8080/"
        },
        "id": "6U6NgXCGELef",
        "outputId": "99c630b3-edef-482e-8ff3-8a2c5b6f1f60"
      },
      "source": [
        "train_generator=train_datagen.flow_from_directory('/content/gdrive/MyDrive/Train',\n",
        "                                                  target_size=(224,224),\n",
        "                                                  batch_size=32,\n",
        "                                                  class_mode='categorical')\n",
        "\n",
        "validation_generator=test_datagen.flow_from_directory('/content/gdrive/MyDrive/Test',\n",
        "                                                  target_size=(224,224),\n",
        "                                                  batch_size=32,\n",
        "                                                  class_mode='categorical')"
      ],
      "execution_count": null,
      "outputs": [
        {
          "output_type": "stream",
          "text": [
            "Found 4148 images belonging to 3 classes.\n",
            "Found 1209 images belonging to 3 classes.\n"
          ],
          "name": "stdout"
        }
      ]
    },
    {
      "cell_type": "code",
      "metadata": {
        "id": "QckISVk_7lQ2"
      },
      "source": [
        "model=Sequential()\n",
        "model.add(Conv2D(input_shape=(224,224,3),filters=64,kernel_size=(3,3),padding=\"same\",activation=\"relu\"))\n",
        "model.add(Conv2D(filters=64,kernel_size=(3,3),padding=\"same\",activation=\"relu\"))\n",
        "model.add(MaxPooling2D(pool_size=(2,2),strides=(2,2)))\n",
        "\n",
        "model.add(Conv2D(filters=128,kernel_size=(3,3),padding=\"same\",activation=\"relu\"))\n",
        "model.add(Conv2D(filters=128,kernel_size=(3,3),padding=\"same\",activation=\"relu\"))\n",
        "model.add(MaxPooling2D(pool_size=(2,2),strides=(2,2)))\n",
        "\n",
        "model.add(Conv2D(filters=256,kernel_size=(3,3),padding=\"same\",activation=\"relu\"))\n",
        "model.add(Conv2D(filters=256,kernel_size=(3,3),padding=\"same\",activation=\"relu\"))\n",
        "model.add(Conv2D(filters=256,kernel_size=(3,3),padding=\"same\",activation=\"relu\"))\n",
        "model.add(MaxPooling2D(pool_size=(2,2),strides=(2,2)))\n",
        "\n",
        "model.add(Conv2D(filters=512,kernel_size=(3,3),padding=\"same\",activation=\"relu\"))\n",
        "model.add(Conv2D(filters=512,kernel_size=(3,3),padding=\"same\",activation=\"relu\"))\n",
        "model.add(Conv2D(filters=512,kernel_size=(3,3),padding=\"same\",activation=\"relu\"))\n",
        "model.add(MaxPooling2D(pool_size=(2,2),strides=(2,2)))\n",
        "\n",
        "model.add(Conv2D(filters=512,kernel_size=(3,3),padding=\"same\",activation=\"relu\"))\n",
        "model.add(Conv2D(filters=512,kernel_size=(3,3),padding=\"same\",activation=\"relu\"))\n",
        "model.add(Conv2D(filters=512,kernel_size=(3,3),padding=\"same\",activation=\"relu\"))\n",
        "model.add(MaxPooling2D(pool_size=(2,2),strides=(2,2)))\n",
        "\n",
        "model.add(Flatten())\n",
        "model.add(Dense(units=256,activation=\"relu\"))\n",
        "model.add(Dense(units=256,activation=\"relu\"))\n",
        "model.add(Dense(units=3,activation=\"softmax\"))\n"
      ],
      "execution_count": null,
      "outputs": []
    },
    {
      "cell_type": "code",
      "metadata": {
        "id": "sO_Vj-54bTdc"
      },
      "source": [
        "model.compile(\n",
        "    loss='categorical_crossentropy',\n",
        "    optimizer='adam',\n",
        "    metrics=['accuracy']\n",
        ")"
      ],
      "execution_count": null,
      "outputs": []
    },
    {
      "cell_type": "code",
      "metadata": {
        "id": "5BEjAO4x13hg",
        "colab": {
          "base_uri": "https://localhost:8080/"
        },
        "outputId": "eab0bd65-253a-4d83-f884-63618c8aa700"
      },
      "source": [
        "VGG=keras.applications.VGG19(input_shape=(224,224,3),include_top=False,weights='imagenet')\n",
        "VGG.trainable=False\n",
        "VGG.summary()"
      ],
      "execution_count": null,
      "outputs": [
        {
          "output_type": "stream",
          "text": [
            "Downloading data from https://storage.googleapis.com/tensorflow/keras-applications/vgg19/vgg19_weights_tf_dim_ordering_tf_kernels_notop.h5\n",
            "80142336/80134624 [==============================] - 1s 0us/step\n",
            "Model: \"vgg19\"\n",
            "_________________________________________________________________\n",
            "Layer (type)                 Output Shape              Param #   \n",
            "=================================================================\n",
            "input_1 (InputLayer)         [(None, 224, 224, 3)]     0         \n",
            "_________________________________________________________________\n",
            "block1_conv1 (Conv2D)        (None, 224, 224, 64)      1792      \n",
            "_________________________________________________________________\n",
            "block1_conv2 (Conv2D)        (None, 224, 224, 64)      36928     \n",
            "_________________________________________________________________\n",
            "block1_pool (MaxPooling2D)   (None, 112, 112, 64)      0         \n",
            "_________________________________________________________________\n",
            "block2_conv1 (Conv2D)        (None, 112, 112, 128)     73856     \n",
            "_________________________________________________________________\n",
            "block2_conv2 (Conv2D)        (None, 112, 112, 128)     147584    \n",
            "_________________________________________________________________\n",
            "block2_pool (MaxPooling2D)   (None, 56, 56, 128)       0         \n",
            "_________________________________________________________________\n",
            "block3_conv1 (Conv2D)        (None, 56, 56, 256)       295168    \n",
            "_________________________________________________________________\n",
            "block3_conv2 (Conv2D)        (None, 56, 56, 256)       590080    \n",
            "_________________________________________________________________\n",
            "block3_conv3 (Conv2D)        (None, 56, 56, 256)       590080    \n",
            "_________________________________________________________________\n",
            "block3_conv4 (Conv2D)        (None, 56, 56, 256)       590080    \n",
            "_________________________________________________________________\n",
            "block3_pool (MaxPooling2D)   (None, 28, 28, 256)       0         \n",
            "_________________________________________________________________\n",
            "block4_conv1 (Conv2D)        (None, 28, 28, 512)       1180160   \n",
            "_________________________________________________________________\n",
            "block4_conv2 (Conv2D)        (None, 28, 28, 512)       2359808   \n",
            "_________________________________________________________________\n",
            "block4_conv3 (Conv2D)        (None, 28, 28, 512)       2359808   \n",
            "_________________________________________________________________\n",
            "block4_conv4 (Conv2D)        (None, 28, 28, 512)       2359808   \n",
            "_________________________________________________________________\n",
            "block4_pool (MaxPooling2D)   (None, 14, 14, 512)       0         \n",
            "_________________________________________________________________\n",
            "block5_conv1 (Conv2D)        (None, 14, 14, 512)       2359808   \n",
            "_________________________________________________________________\n",
            "block5_conv2 (Conv2D)        (None, 14, 14, 512)       2359808   \n",
            "_________________________________________________________________\n",
            "block5_conv3 (Conv2D)        (None, 14, 14, 512)       2359808   \n",
            "_________________________________________________________________\n",
            "block5_conv4 (Conv2D)        (None, 14, 14, 512)       2359808   \n",
            "_________________________________________________________________\n",
            "block5_pool (MaxPooling2D)   (None, 7, 7, 512)         0         \n",
            "=================================================================\n",
            "Total params: 20,024,384\n",
            "Trainable params: 0\n",
            "Non-trainable params: 20,024,384\n",
            "_________________________________________________________________\n"
          ],
          "name": "stdout"
        }
      ]
    },
    {
      "cell_type": "code",
      "metadata": {
        "id": "ubrSJV2S2eSL",
        "colab": {
          "base_uri": "https://localhost:8080/"
        },
        "outputId": "a9dd3757-4abd-4da3-aad3-015afc48607b"
      },
      "source": [
        "x=Flatten()(VGG.output)\n",
        "x=Dense(units=256,activation='relu')(x)\n",
        "prediction=Dense(units=3,activation='softmax')(x)\n",
        "model=Model(inputs=VGG.input,outputs=prediction)\n",
        "model.summary()"
      ],
      "execution_count": null,
      "outputs": [
        {
          "output_type": "stream",
          "text": [
            "Model: \"model\"\n",
            "_________________________________________________________________\n",
            "Layer (type)                 Output Shape              Param #   \n",
            "=================================================================\n",
            "input_1 (InputLayer)         [(None, 224, 224, 3)]     0         \n",
            "_________________________________________________________________\n",
            "block1_conv1 (Conv2D)        (None, 224, 224, 64)      1792      \n",
            "_________________________________________________________________\n",
            "block1_conv2 (Conv2D)        (None, 224, 224, 64)      36928     \n",
            "_________________________________________________________________\n",
            "block1_pool (MaxPooling2D)   (None, 112, 112, 64)      0         \n",
            "_________________________________________________________________\n",
            "block2_conv1 (Conv2D)        (None, 112, 112, 128)     73856     \n",
            "_________________________________________________________________\n",
            "block2_conv2 (Conv2D)        (None, 112, 112, 128)     147584    \n",
            "_________________________________________________________________\n",
            "block2_pool (MaxPooling2D)   (None, 56, 56, 128)       0         \n",
            "_________________________________________________________________\n",
            "block3_conv1 (Conv2D)        (None, 56, 56, 256)       295168    \n",
            "_________________________________________________________________\n",
            "block3_conv2 (Conv2D)        (None, 56, 56, 256)       590080    \n",
            "_________________________________________________________________\n",
            "block3_conv3 (Conv2D)        (None, 56, 56, 256)       590080    \n",
            "_________________________________________________________________\n",
            "block3_conv4 (Conv2D)        (None, 56, 56, 256)       590080    \n",
            "_________________________________________________________________\n",
            "block3_pool (MaxPooling2D)   (None, 28, 28, 256)       0         \n",
            "_________________________________________________________________\n",
            "block4_conv1 (Conv2D)        (None, 28, 28, 512)       1180160   \n",
            "_________________________________________________________________\n",
            "block4_conv2 (Conv2D)        (None, 28, 28, 512)       2359808   \n",
            "_________________________________________________________________\n",
            "block4_conv3 (Conv2D)        (None, 28, 28, 512)       2359808   \n",
            "_________________________________________________________________\n",
            "block4_conv4 (Conv2D)        (None, 28, 28, 512)       2359808   \n",
            "_________________________________________________________________\n",
            "block4_pool (MaxPooling2D)   (None, 14, 14, 512)       0         \n",
            "_________________________________________________________________\n",
            "block5_conv1 (Conv2D)        (None, 14, 14, 512)       2359808   \n",
            "_________________________________________________________________\n",
            "block5_conv2 (Conv2D)        (None, 14, 14, 512)       2359808   \n",
            "_________________________________________________________________\n",
            "block5_conv3 (Conv2D)        (None, 14, 14, 512)       2359808   \n",
            "_________________________________________________________________\n",
            "block5_conv4 (Conv2D)        (None, 14, 14, 512)       2359808   \n",
            "_________________________________________________________________\n",
            "block5_pool (MaxPooling2D)   (None, 7, 7, 512)         0         \n",
            "_________________________________________________________________\n",
            "flatten_1 (Flatten)          (None, 25088)             0         \n",
            "_________________________________________________________________\n",
            "dense_3 (Dense)              (None, 256)               6422784   \n",
            "_________________________________________________________________\n",
            "dense_4 (Dense)              (None, 3)                 771       \n",
            "=================================================================\n",
            "Total params: 26,447,939\n",
            "Trainable params: 6,423,555\n",
            "Non-trainable params: 20,024,384\n",
            "_________________________________________________________________\n"
          ],
          "name": "stdout"
        }
      ]
    },
    {
      "cell_type": "code",
      "metadata": {
        "id": "rPVJEwun3Vv3"
      },
      "source": [
        "model.compile(\n",
        "    loss='categorical_crossentropy',\n",
        "    optimizer='adam',\n",
        "    metrics=['accuracy']\n",
        ")"
      ],
      "execution_count": null,
      "outputs": []
    },
    {
      "cell_type": "code",
      "metadata": {
        "id": "7Xfz6XcPKqru"
      },
      "source": [
        "model.load_weights('/content/gdrive/MyDrive/VGG19_cp/check_point_VGG19.hdf5')"
      ],
      "execution_count": null,
      "outputs": []
    },
    {
      "cell_type": "code",
      "metadata": {
        "id": "jkb5uWTg1IxZ"
      },
      "source": [
        "filename = \"/content/gdrive/MyDrive/VGG19_cp/logs_VGG19.csv\""
      ],
      "execution_count": null,
      "outputs": []
    },
    {
      "cell_type": "code",
      "metadata": {
        "id": "ylBQTZJGEY6B"
      },
      "source": [
        "# Call the function only once i.e at starting to make log file header \n",
        "def create_log_file():\n",
        "  fields = ['loss', 'val_loss', 'acc', 'val_acc']\n",
        "# name of csv file \n",
        "  with open(filename, 'w') as csvfile: \n",
        "    # creating a csv writer object \n",
        "    csvwriter = csv.writer(csvfile) \n",
        "    csvwriter.writerow(fields)\n",
        "    csvfile.close()\n"
      ],
      "execution_count": null,
      "outputs": []
    },
    {
      "cell_type": "code",
      "metadata": {
        "id": "EflA3HaXikj4"
      },
      "source": [
        "from keras.callbacks import *\n",
        "filepath = \"/content/gdrive/MyDrive/VGG19_cp/check_point_VGG19.hdf5\"\n",
        "checkpoint = ModelCheckpoint(filepath, verbose=1, save_weights_only=True)\n"
      ],
      "execution_count": null,
      "outputs": []
    },
    {
      "cell_type": "code",
      "metadata": {
        "id": "VSjDlIr8Crag"
      },
      "source": [
        "class myCallback(tf.keras.callbacks.Callback):\n",
        "      def on_epoch_end(self, epoch, logs={}):\n",
        "        row=[logs.get('loss'),logs.get('val_loss'),logs.get('accuracy'),logs.get('val_accuracy')]\n",
        "        with open(filename, 'a') as csvfile: \n",
        "          # creating a csv writer object \n",
        "          csvwriter = csv.writer(csvfile) \n",
        "          csvwriter.writerow(row)\n",
        "          csvfile.close()\n",
        "        "
      ],
      "execution_count": null,
      "outputs": []
    },
    {
      "cell_type": "code",
      "metadata": {
        "colab": {
          "base_uri": "https://localhost:8080/"
        },
        "id": "thFu1mP_cuTw",
        "outputId": "affc6c19-e7ce-41fa-f2e5-cc9d5f677510"
      },
      "source": [
        "\n",
        "H = model.fit(train_generator,\n",
        "                             validation_data = validation_generator,\n",
        "                             steps_per_epoch = len(train_generator),\n",
        "                             initial_epoch=2,\n",
        "                             epochs = 100,\n",
        "                             validation_steps = len(validation_generator),\n",
        "                             callbacks=[checkpoint,myCallback()])"
      ],
      "execution_count": null,
      "outputs": [
        {
          "output_type": "stream",
          "text": [
            "Epoch 3/100\n",
            "130/130 [==============================] - 1064s 8s/step - loss: 0.7652 - accuracy: 0.7533 - val_loss: 0.4584 - val_accuracy: 0.8313\n",
            "\n",
            "Epoch 00003: saving model to /content/gdrive/MyDrive/VGG19_cp/check_point_VGG19.hdf5\n",
            "Epoch 4/100\n",
            "130/130 [==============================] - 63s 482ms/step - loss: 0.3955 - accuracy: 0.8366 - val_loss: 0.3521 - val_accuracy: 0.8610\n",
            "\n",
            "Epoch 00004: saving model to /content/gdrive/MyDrive/VGG19_cp/check_point_VGG19.hdf5\n",
            "Epoch 5/100\n",
            "130/130 [==============================] - 62s 480ms/step - loss: 0.3800 - accuracy: 0.8464 - val_loss: 0.2975 - val_accuracy: 0.8792\n",
            "\n",
            "Epoch 00005: saving model to /content/gdrive/MyDrive/VGG19_cp/check_point_VGG19.hdf5\n",
            "Epoch 6/100\n",
            "130/130 [==============================] - 62s 477ms/step - loss: 0.3520 - accuracy: 0.8486 - val_loss: 0.6136 - val_accuracy: 0.7651\n",
            "\n",
            "Epoch 00006: saving model to /content/gdrive/MyDrive/VGG19_cp/check_point_VGG19.hdf5\n",
            "Epoch 7/100\n",
            "130/130 [==============================] - 62s 479ms/step - loss: 0.3725 - accuracy: 0.8533 - val_loss: 0.3383 - val_accuracy: 0.8734\n",
            "\n",
            "Epoch 00007: saving model to /content/gdrive/MyDrive/VGG19_cp/check_point_VGG19.hdf5\n",
            "Epoch 8/100\n",
            "130/130 [==============================] - 63s 485ms/step - loss: 0.3776 - accuracy: 0.8361 - val_loss: 0.3004 - val_accuracy: 0.8759\n",
            "\n",
            "Epoch 00008: saving model to /content/gdrive/MyDrive/VGG19_cp/check_point_VGG19.hdf5\n",
            "Epoch 9/100\n",
            "130/130 [==============================] - 62s 479ms/step - loss: 0.3152 - accuracy: 0.8715 - val_loss: 0.3413 - val_accuracy: 0.8660\n",
            "\n",
            "Epoch 00009: saving model to /content/gdrive/MyDrive/VGG19_cp/check_point_VGG19.hdf5\n",
            "Epoch 10/100\n",
            "130/130 [==============================] - 63s 481ms/step - loss: 0.2891 - accuracy: 0.8861 - val_loss: 0.5072 - val_accuracy: 0.7998\n",
            "\n",
            "Epoch 00010: saving model to /content/gdrive/MyDrive/VGG19_cp/check_point_VGG19.hdf5\n",
            "Epoch 11/100\n",
            "130/130 [==============================] - 62s 479ms/step - loss: 0.3245 - accuracy: 0.8678 - val_loss: 0.3494 - val_accuracy: 0.8693\n",
            "\n",
            "Epoch 00011: saving model to /content/gdrive/MyDrive/VGG19_cp/check_point_VGG19.hdf5\n",
            "Epoch 12/100\n",
            "130/130 [==============================] - 62s 477ms/step - loss: 0.2839 - accuracy: 0.8848 - val_loss: 0.2927 - val_accuracy: 0.8809\n",
            "\n",
            "Epoch 00012: saving model to /content/gdrive/MyDrive/VGG19_cp/check_point_VGG19.hdf5\n",
            "Epoch 13/100\n",
            "130/130 [==============================] - 62s 478ms/step - loss: 0.3179 - accuracy: 0.8684 - val_loss: 0.3073 - val_accuracy: 0.8801\n",
            "\n",
            "Epoch 00013: saving model to /content/gdrive/MyDrive/VGG19_cp/check_point_VGG19.hdf5\n",
            "Epoch 14/100\n",
            "130/130 [==============================] - 62s 478ms/step - loss: 0.2845 - accuracy: 0.8864 - val_loss: 0.3569 - val_accuracy: 0.8701\n",
            "\n",
            "Epoch 00014: saving model to /content/gdrive/MyDrive/VGG19_cp/check_point_VGG19.hdf5\n",
            "Epoch 15/100\n",
            "130/130 [==============================] - 63s 481ms/step - loss: 0.2816 - accuracy: 0.8879 - val_loss: 0.2739 - val_accuracy: 0.8817\n",
            "\n",
            "Epoch 00015: saving model to /content/gdrive/MyDrive/VGG19_cp/check_point_VGG19.hdf5\n",
            "Epoch 16/100\n",
            "130/130 [==============================] - 62s 477ms/step - loss: 0.2993 - accuracy: 0.8780 - val_loss: 0.2944 - val_accuracy: 0.8925\n",
            "\n",
            "Epoch 00016: saving model to /content/gdrive/MyDrive/VGG19_cp/check_point_VGG19.hdf5\n",
            "Epoch 17/100\n",
            "130/130 [==============================] - 62s 478ms/step - loss: 0.2515 - accuracy: 0.8979 - val_loss: 0.2865 - val_accuracy: 0.8850\n",
            "\n",
            "Epoch 00017: saving model to /content/gdrive/MyDrive/VGG19_cp/check_point_VGG19.hdf5\n",
            "Epoch 18/100\n",
            "130/130 [==============================] - 62s 478ms/step - loss: 0.2634 - accuracy: 0.8979 - val_loss: 0.2635 - val_accuracy: 0.8933\n",
            "\n",
            "Epoch 00018: saving model to /content/gdrive/MyDrive/VGG19_cp/check_point_VGG19.hdf5\n",
            "Epoch 19/100\n",
            "130/130 [==============================] - 62s 477ms/step - loss: 0.2691 - accuracy: 0.8976 - val_loss: 0.2945 - val_accuracy: 0.8842\n",
            "\n",
            "Epoch 00019: saving model to /content/gdrive/MyDrive/VGG19_cp/check_point_VGG19.hdf5\n",
            "Epoch 20/100\n",
            "130/130 [==============================] - 62s 478ms/step - loss: 0.2842 - accuracy: 0.8850 - val_loss: 0.3625 - val_accuracy: 0.8685\n",
            "\n",
            "Epoch 00020: saving model to /content/gdrive/MyDrive/VGG19_cp/check_point_VGG19.hdf5\n",
            "Epoch 21/100\n",
            "130/130 [==============================] - 62s 477ms/step - loss: 0.2830 - accuracy: 0.8855 - val_loss: 0.3036 - val_accuracy: 0.8734\n",
            "\n",
            "Epoch 00021: saving model to /content/gdrive/MyDrive/VGG19_cp/check_point_VGG19.hdf5\n",
            "Epoch 22/100\n",
            "130/130 [==============================] - 62s 477ms/step - loss: 0.2598 - accuracy: 0.8914 - val_loss: 0.2672 - val_accuracy: 0.8883\n",
            "\n",
            "Epoch 00022: saving model to /content/gdrive/MyDrive/VGG19_cp/check_point_VGG19.hdf5\n",
            "Epoch 23/100\n",
            "130/130 [==============================] - 62s 477ms/step - loss: 0.2506 - accuracy: 0.8995 - val_loss: 0.2898 - val_accuracy: 0.8792\n",
            "\n",
            "Epoch 00023: saving model to /content/gdrive/MyDrive/VGG19_cp/check_point_VGG19.hdf5\n",
            "Epoch 24/100\n",
            "130/130 [==============================] - 62s 476ms/step - loss: 0.2484 - accuracy: 0.9000 - val_loss: 0.3037 - val_accuracy: 0.8792\n",
            "\n",
            "Epoch 00024: saving model to /content/gdrive/MyDrive/VGG19_cp/check_point_VGG19.hdf5\n",
            "Epoch 25/100\n",
            "130/130 [==============================] - 62s 478ms/step - loss: 0.2461 - accuracy: 0.8976 - val_loss: 0.3385 - val_accuracy: 0.8701\n",
            "\n",
            "Epoch 00025: saving model to /content/gdrive/MyDrive/VGG19_cp/check_point_VGG19.hdf5\n",
            "Epoch 26/100\n",
            "130/130 [==============================] - 62s 479ms/step - loss: 0.2697 - accuracy: 0.8870 - val_loss: 0.2858 - val_accuracy: 0.8875\n",
            "\n",
            "Epoch 00026: saving model to /content/gdrive/MyDrive/VGG19_cp/check_point_VGG19.hdf5\n",
            "Epoch 27/100\n",
            "130/130 [==============================] - 63s 481ms/step - loss: 0.2301 - accuracy: 0.9031 - val_loss: 0.3037 - val_accuracy: 0.8933\n",
            "\n",
            "Epoch 00027: saving model to /content/gdrive/MyDrive/VGG19_cp/check_point_VGG19.hdf5\n",
            "Epoch 28/100\n",
            "130/130 [==============================] - 62s 479ms/step - loss: 0.2706 - accuracy: 0.8850 - val_loss: 0.4389 - val_accuracy: 0.8313\n",
            "\n",
            "Epoch 00028: saving model to /content/gdrive/MyDrive/VGG19_cp/check_point_VGG19.hdf5\n",
            "Epoch 29/100\n",
            "130/130 [==============================] - 63s 479ms/step - loss: 0.2935 - accuracy: 0.8819 - val_loss: 0.2749 - val_accuracy: 0.8859\n",
            "\n",
            "Epoch 00029: saving model to /content/gdrive/MyDrive/VGG19_cp/check_point_VGG19.hdf5\n",
            "Epoch 30/100\n",
            "130/130 [==============================] - 62s 478ms/step - loss: 0.2466 - accuracy: 0.9036 - val_loss: 0.2891 - val_accuracy: 0.8834\n",
            "\n",
            "Epoch 00030: saving model to /content/gdrive/MyDrive/VGG19_cp/check_point_VGG19.hdf5\n",
            "Epoch 31/100\n",
            "130/130 [==============================] - 62s 477ms/step - loss: 0.2556 - accuracy: 0.8924 - val_loss: 0.2964 - val_accuracy: 0.8834\n",
            "\n",
            "Epoch 00031: saving model to /content/gdrive/MyDrive/VGG19_cp/check_point_VGG19.hdf5\n",
            "Epoch 32/100\n",
            "130/130 [==============================] - 62s 478ms/step - loss: 0.2450 - accuracy: 0.9030 - val_loss: 0.3064 - val_accuracy: 0.8875\n",
            "\n",
            "Epoch 00032: saving model to /content/gdrive/MyDrive/VGG19_cp/check_point_VGG19.hdf5\n",
            "Epoch 33/100\n",
            "130/130 [==============================] - 62s 478ms/step - loss: 0.2490 - accuracy: 0.9008 - val_loss: 0.3505 - val_accuracy: 0.8635\n",
            "\n",
            "Epoch 00033: saving model to /content/gdrive/MyDrive/VGG19_cp/check_point_VGG19.hdf5\n",
            "Epoch 34/100\n",
            "130/130 [==============================] - 62s 479ms/step - loss: 0.2474 - accuracy: 0.9000 - val_loss: 0.2755 - val_accuracy: 0.8933\n",
            "\n",
            "Epoch 00034: saving model to /content/gdrive/MyDrive/VGG19_cp/check_point_VGG19.hdf5\n",
            "Epoch 35/100\n",
            "130/130 [==============================] - 62s 476ms/step - loss: 0.2480 - accuracy: 0.9054 - val_loss: 0.3335 - val_accuracy: 0.8759\n",
            "\n",
            "Epoch 00035: saving model to /content/gdrive/MyDrive/VGG19_cp/check_point_VGG19.hdf5\n",
            "Epoch 36/100\n",
            "130/130 [==============================] - 62s 477ms/step - loss: 0.2165 - accuracy: 0.9145 - val_loss: 0.3894 - val_accuracy: 0.8528\n",
            "\n",
            "Epoch 00036: saving model to /content/gdrive/MyDrive/VGG19_cp/check_point_VGG19.hdf5\n",
            "Epoch 37/100\n",
            "130/130 [==============================] - 62s 475ms/step - loss: 0.2320 - accuracy: 0.9095 - val_loss: 0.2976 - val_accuracy: 0.8859\n",
            "\n",
            "Epoch 00037: saving model to /content/gdrive/MyDrive/VGG19_cp/check_point_VGG19.hdf5\n",
            "Epoch 38/100\n",
            "130/130 [==============================] - 62s 477ms/step - loss: 0.2326 - accuracy: 0.9063 - val_loss: 0.3142 - val_accuracy: 0.8850\n",
            "\n",
            "Epoch 00038: saving model to /content/gdrive/MyDrive/VGG19_cp/check_point_VGG19.hdf5\n",
            "Epoch 39/100\n",
            "130/130 [==============================] - 62s 479ms/step - loss: 0.2285 - accuracy: 0.9054 - val_loss: 0.2526 - val_accuracy: 0.9024\n",
            "\n",
            "Epoch 00039: saving model to /content/gdrive/MyDrive/VGG19_cp/check_point_VGG19.hdf5\n",
            "Epoch 40/100\n",
            "130/130 [==============================] - 62s 479ms/step - loss: 0.2271 - accuracy: 0.9103 - val_loss: 0.4881 - val_accuracy: 0.8230\n",
            "\n",
            "Epoch 00040: saving model to /content/gdrive/MyDrive/VGG19_cp/check_point_VGG19.hdf5\n",
            "Epoch 41/100\n",
            "130/130 [==============================] - 62s 479ms/step - loss: 0.2519 - accuracy: 0.8926 - val_loss: 0.3050 - val_accuracy: 0.8867\n",
            "\n",
            "Epoch 00041: saving model to /content/gdrive/MyDrive/VGG19_cp/check_point_VGG19.hdf5\n",
            "Epoch 42/100\n",
            "130/130 [==============================] - 62s 477ms/step - loss: 0.2226 - accuracy: 0.9085 - val_loss: 0.2486 - val_accuracy: 0.9065\n",
            "\n",
            "Epoch 00042: saving model to /content/gdrive/MyDrive/VGG19_cp/check_point_VGG19.hdf5\n",
            "Epoch 43/100\n",
            "130/130 [==============================] - 62s 479ms/step - loss: 0.2140 - accuracy: 0.9083 - val_loss: 0.3107 - val_accuracy: 0.8825\n",
            "\n",
            "Epoch 00043: saving model to /content/gdrive/MyDrive/VGG19_cp/check_point_VGG19.hdf5\n",
            "Epoch 44/100\n",
            "130/130 [==============================] - 62s 478ms/step - loss: 0.2176 - accuracy: 0.9119 - val_loss: 0.2830 - val_accuracy: 0.8966\n",
            "\n",
            "Epoch 00044: saving model to /content/gdrive/MyDrive/VGG19_cp/check_point_VGG19.hdf5\n",
            "Epoch 45/100\n",
            "130/130 [==============================] - 62s 475ms/step - loss: 0.1925 - accuracy: 0.9275 - val_loss: 0.3300 - val_accuracy: 0.8751\n",
            "\n",
            "Epoch 00045: saving model to /content/gdrive/MyDrive/VGG19_cp/check_point_VGG19.hdf5\n",
            "Epoch 46/100\n",
            "130/130 [==============================] - 62s 476ms/step - loss: 0.2074 - accuracy: 0.9108 - val_loss: 0.2958 - val_accuracy: 0.8859\n",
            "\n",
            "Epoch 00046: saving model to /content/gdrive/MyDrive/VGG19_cp/check_point_VGG19.hdf5\n",
            "Epoch 47/100\n",
            "130/130 [==============================] - 62s 479ms/step - loss: 0.2176 - accuracy: 0.9152 - val_loss: 0.2534 - val_accuracy: 0.9041\n",
            "\n",
            "Epoch 00047: saving model to /content/gdrive/MyDrive/VGG19_cp/check_point_VGG19.hdf5\n",
            "Epoch 48/100\n",
            "130/130 [==============================] - 62s 478ms/step - loss: 0.2016 - accuracy: 0.9193 - val_loss: 0.2992 - val_accuracy: 0.8900\n",
            "\n",
            "Epoch 00048: saving model to /content/gdrive/MyDrive/VGG19_cp/check_point_VGG19.hdf5\n",
            "Epoch 49/100\n",
            "130/130 [==============================] - 62s 480ms/step - loss: 0.2210 - accuracy: 0.9097 - val_loss: 0.2876 - val_accuracy: 0.8925\n",
            "\n",
            "Epoch 00049: saving model to /content/gdrive/MyDrive/VGG19_cp/check_point_VGG19.hdf5\n",
            "Epoch 50/100\n",
            "130/130 [==============================] - 62s 478ms/step - loss: 0.2055 - accuracy: 0.9131 - val_loss: 0.2502 - val_accuracy: 0.8991\n",
            "\n",
            "Epoch 00050: saving model to /content/gdrive/MyDrive/VGG19_cp/check_point_VGG19.hdf5\n",
            "Epoch 51/100\n",
            "130/130 [==============================] - 62s 478ms/step - loss: 0.2161 - accuracy: 0.9118 - val_loss: 0.2589 - val_accuracy: 0.8958\n",
            "\n",
            "Epoch 00051: saving model to /content/gdrive/MyDrive/VGG19_cp/check_point_VGG19.hdf5\n",
            "Epoch 52/100\n",
            "130/130 [==============================] - 62s 480ms/step - loss: 0.2099 - accuracy: 0.9130 - val_loss: 0.2844 - val_accuracy: 0.8950\n",
            "\n",
            "Epoch 00052: saving model to /content/gdrive/MyDrive/VGG19_cp/check_point_VGG19.hdf5\n",
            "Epoch 53/100\n",
            "130/130 [==============================] - 63s 483ms/step - loss: 0.2099 - accuracy: 0.9216 - val_loss: 0.2478 - val_accuracy: 0.9065\n",
            "\n",
            "Epoch 00053: saving model to /content/gdrive/MyDrive/VGG19_cp/check_point_VGG19.hdf5\n",
            "Epoch 54/100\n",
            "130/130 [==============================] - 63s 483ms/step - loss: 0.2067 - accuracy: 0.9108 - val_loss: 0.3526 - val_accuracy: 0.8701\n",
            "\n",
            "Epoch 00054: saving model to /content/gdrive/MyDrive/VGG19_cp/check_point_VGG19.hdf5\n",
            "Epoch 55/100\n",
            "130/130 [==============================] - 62s 480ms/step - loss: 0.2155 - accuracy: 0.9062 - val_loss: 0.3143 - val_accuracy: 0.8768\n",
            "\n",
            "Epoch 00055: saving model to /content/gdrive/MyDrive/VGG19_cp/check_point_VGG19.hdf5\n",
            "Epoch 56/100\n",
            "130/130 [==============================] - 62s 479ms/step - loss: 0.2097 - accuracy: 0.9167 - val_loss: 0.3000 - val_accuracy: 0.8718\n",
            "\n",
            "Epoch 00056: saving model to /content/gdrive/MyDrive/VGG19_cp/check_point_VGG19.hdf5\n",
            "Epoch 57/100\n",
            "130/130 [==============================] - 62s 479ms/step - loss: 0.1913 - accuracy: 0.9229 - val_loss: 0.3342 - val_accuracy: 0.8751\n",
            "\n",
            "Epoch 00057: saving model to /content/gdrive/MyDrive/VGG19_cp/check_point_VGG19.hdf5\n",
            "Epoch 58/100\n",
            "130/130 [==============================] - 62s 478ms/step - loss: 0.2011 - accuracy: 0.9223 - val_loss: 0.2965 - val_accuracy: 0.8908\n",
            "\n",
            "Epoch 00058: saving model to /content/gdrive/MyDrive/VGG19_cp/check_point_VGG19.hdf5\n",
            "Epoch 59/100\n",
            "130/130 [==============================] - 63s 484ms/step - loss: 0.1906 - accuracy: 0.9229 - val_loss: 0.5009 - val_accuracy: 0.8230\n",
            "\n",
            "Epoch 00059: saving model to /content/gdrive/MyDrive/VGG19_cp/check_point_VGG19.hdf5\n",
            "Epoch 60/100\n",
            "130/130 [==============================] - 63s 483ms/step - loss: 0.2028 - accuracy: 0.9172 - val_loss: 0.3528 - val_accuracy: 0.8784\n",
            "\n",
            "Epoch 00060: saving model to /content/gdrive/MyDrive/VGG19_cp/check_point_VGG19.hdf5\n",
            "Epoch 61/100\n",
            "130/130 [==============================] - 62s 476ms/step - loss: 0.1978 - accuracy: 0.9222 - val_loss: 0.2563 - val_accuracy: 0.9082\n",
            "\n",
            "Epoch 00061: saving model to /content/gdrive/MyDrive/VGG19_cp/check_point_VGG19.hdf5\n",
            "Epoch 62/100\n",
            "130/130 [==============================] - 62s 480ms/step - loss: 0.1897 - accuracy: 0.9233 - val_loss: 0.3659 - val_accuracy: 0.8710\n",
            "\n",
            "Epoch 00062: saving model to /content/gdrive/MyDrive/VGG19_cp/check_point_VGG19.hdf5\n",
            "Epoch 63/100\n",
            "130/130 [==============================] - 62s 478ms/step - loss: 0.1875 - accuracy: 0.9234 - val_loss: 0.2465 - val_accuracy: 0.9057\n",
            "\n",
            "Epoch 00063: saving model to /content/gdrive/MyDrive/VGG19_cp/check_point_VGG19.hdf5\n",
            "Epoch 64/100\n",
            "130/130 [==============================] - 63s 486ms/step - loss: 0.1992 - accuracy: 0.9248 - val_loss: 0.4271 - val_accuracy: 0.8387\n",
            "\n",
            "Epoch 00064: saving model to /content/gdrive/MyDrive/VGG19_cp/check_point_VGG19.hdf5\n",
            "Epoch 65/100\n",
            "130/130 [==============================] - 62s 478ms/step - loss: 0.2155 - accuracy: 0.9099 - val_loss: 0.4637 - val_accuracy: 0.8313\n",
            "\n",
            "Epoch 00065: saving model to /content/gdrive/MyDrive/VGG19_cp/check_point_VGG19.hdf5\n",
            "Epoch 66/100\n",
            "130/130 [==============================] - 62s 476ms/step - loss: 0.1885 - accuracy: 0.9195 - val_loss: 0.2878 - val_accuracy: 0.8916\n",
            "\n",
            "Epoch 00066: saving model to /content/gdrive/MyDrive/VGG19_cp/check_point_VGG19.hdf5\n",
            "Epoch 67/100\n",
            "130/130 [==============================] - 62s 477ms/step - loss: 0.1892 - accuracy: 0.9231 - val_loss: 0.4850 - val_accuracy: 0.8404\n",
            "\n",
            "Epoch 00067: saving model to /content/gdrive/MyDrive/VGG19_cp/check_point_VGG19.hdf5\n",
            "Epoch 68/100\n",
            "130/130 [==============================] - 62s 477ms/step - loss: 0.2018 - accuracy: 0.9194 - val_loss: 0.3183 - val_accuracy: 0.8867\n",
            "\n",
            "Epoch 00068: saving model to /content/gdrive/MyDrive/VGG19_cp/check_point_VGG19.hdf5\n",
            "Epoch 69/100\n",
            "130/130 [==============================] - 62s 479ms/step - loss: 0.1796 - accuracy: 0.9281 - val_loss: 0.3206 - val_accuracy: 0.8743\n",
            "\n",
            "Epoch 00069: saving model to /content/gdrive/MyDrive/VGG19_cp/check_point_VGG19.hdf5\n",
            "Epoch 70/100\n",
            "130/130 [==============================] - 62s 477ms/step - loss: 0.1820 - accuracy: 0.9261 - val_loss: 0.2528 - val_accuracy: 0.9173\n",
            "\n",
            "Epoch 00070: saving model to /content/gdrive/MyDrive/VGG19_cp/check_point_VGG19.hdf5\n",
            "Epoch 71/100\n",
            "130/130 [==============================] - 62s 477ms/step - loss: 0.1689 - accuracy: 0.9326 - val_loss: 0.3821 - val_accuracy: 0.8619\n",
            "\n",
            "Epoch 00071: saving model to /content/gdrive/MyDrive/VGG19_cp/check_point_VGG19.hdf5\n",
            "Epoch 72/100\n",
            "130/130 [==============================] - 62s 477ms/step - loss: 0.1746 - accuracy: 0.9342 - val_loss: 0.5750 - val_accuracy: 0.8346\n",
            "\n",
            "Epoch 00072: saving model to /content/gdrive/MyDrive/VGG19_cp/check_point_VGG19.hdf5\n",
            "Epoch 73/100\n",
            "130/130 [==============================] - 64s 488ms/step - loss: 0.1903 - accuracy: 0.9240 - val_loss: 0.2603 - val_accuracy: 0.8991\n",
            "\n",
            "Epoch 00073: saving model to /content/gdrive/MyDrive/VGG19_cp/check_point_VGG19.hdf5\n",
            "Epoch 74/100\n",
            "130/130 [==============================] - 62s 477ms/step - loss: 0.1886 - accuracy: 0.9210 - val_loss: 0.2570 - val_accuracy: 0.9024\n",
            "\n",
            "Epoch 00074: saving model to /content/gdrive/MyDrive/VGG19_cp/check_point_VGG19.hdf5\n",
            "Epoch 75/100\n",
            "130/130 [==============================] - 62s 479ms/step - loss: 0.1621 - accuracy: 0.9363 - val_loss: 0.3010 - val_accuracy: 0.8966\n",
            "\n",
            "Epoch 00075: saving model to /content/gdrive/MyDrive/VGG19_cp/check_point_VGG19.hdf5\n",
            "Epoch 76/100\n",
            "130/130 [==============================] - 62s 480ms/step - loss: 0.1748 - accuracy: 0.9334 - val_loss: 0.2943 - val_accuracy: 0.8850\n",
            "\n",
            "Epoch 00076: saving model to /content/gdrive/MyDrive/VGG19_cp/check_point_VGG19.hdf5\n",
            "Epoch 77/100\n",
            "130/130 [==============================] - 62s 477ms/step - loss: 0.1870 - accuracy: 0.9241 - val_loss: 0.3151 - val_accuracy: 0.8726\n",
            "\n",
            "Epoch 00077: saving model to /content/gdrive/MyDrive/VGG19_cp/check_point_VGG19.hdf5\n",
            "Epoch 78/100\n",
            "130/130 [==============================] - 62s 479ms/step - loss: 0.1741 - accuracy: 0.9349 - val_loss: 0.2880 - val_accuracy: 0.8966\n",
            "\n",
            "Epoch 00078: saving model to /content/gdrive/MyDrive/VGG19_cp/check_point_VGG19.hdf5\n",
            "Epoch 79/100\n",
            "130/130 [==============================] - 62s 479ms/step - loss: 0.1673 - accuracy: 0.9386 - val_loss: 0.2847 - val_accuracy: 0.8974\n",
            "\n",
            "Epoch 00079: saving model to /content/gdrive/MyDrive/VGG19_cp/check_point_VGG19.hdf5\n",
            "Epoch 80/100\n",
            "130/130 [==============================] - 62s 477ms/step - loss: 0.1647 - accuracy: 0.9384 - val_loss: 0.3627 - val_accuracy: 0.8685\n",
            "\n",
            "Epoch 00080: saving model to /content/gdrive/MyDrive/VGG19_cp/check_point_VGG19.hdf5\n",
            "Epoch 81/100\n",
            "130/130 [==============================] - 62s 479ms/step - loss: 0.1771 - accuracy: 0.9306 - val_loss: 0.2820 - val_accuracy: 0.8950\n",
            "\n",
            "Epoch 00081: saving model to /content/gdrive/MyDrive/VGG19_cp/check_point_VGG19.hdf5\n",
            "Epoch 82/100\n",
            "130/130 [==============================] - 62s 477ms/step - loss: 0.1589 - accuracy: 0.9347 - val_loss: 0.2931 - val_accuracy: 0.8974\n",
            "\n",
            "Epoch 00082: saving model to /content/gdrive/MyDrive/VGG19_cp/check_point_VGG19.hdf5\n",
            "Epoch 83/100\n",
            "130/130 [==============================] - 62s 479ms/step - loss: 0.1746 - accuracy: 0.9239 - val_loss: 0.2658 - val_accuracy: 0.8991\n",
            "\n",
            "Epoch 00083: saving model to /content/gdrive/MyDrive/VGG19_cp/check_point_VGG19.hdf5\n",
            "Epoch 84/100\n",
            "130/130 [==============================] - 62s 478ms/step - loss: 0.1664 - accuracy: 0.9335 - val_loss: 0.2655 - val_accuracy: 0.9007\n",
            "\n",
            "Epoch 00084: saving model to /content/gdrive/MyDrive/VGG19_cp/check_point_VGG19.hdf5\n",
            "Epoch 85/100\n",
            "130/130 [==============================] - 62s 478ms/step - loss: 0.1988 - accuracy: 0.9135 - val_loss: 0.3704 - val_accuracy: 0.8726\n",
            "\n",
            "Epoch 00085: saving model to /content/gdrive/MyDrive/VGG19_cp/check_point_VGG19.hdf5\n",
            "Epoch 86/100\n",
            "130/130 [==============================] - 63s 482ms/step - loss: 0.1660 - accuracy: 0.9280 - val_loss: 0.3983 - val_accuracy: 0.8577\n",
            "\n",
            "Epoch 00086: saving model to /content/gdrive/MyDrive/VGG19_cp/check_point_VGG19.hdf5\n",
            "Epoch 87/100\n",
            "130/130 [==============================] - 62s 480ms/step - loss: 0.1561 - accuracy: 0.9371 - val_loss: 0.4825 - val_accuracy: 0.8445\n",
            "\n",
            "Epoch 00087: saving model to /content/gdrive/MyDrive/VGG19_cp/check_point_VGG19.hdf5\n",
            "Epoch 88/100\n",
            "130/130 [==============================] - 63s 481ms/step - loss: 0.1738 - accuracy: 0.9247 - val_loss: 0.3386 - val_accuracy: 0.8710\n",
            "\n",
            "Epoch 00088: saving model to /content/gdrive/MyDrive/VGG19_cp/check_point_VGG19.hdf5\n",
            "Epoch 89/100\n",
            "130/130 [==============================] - 62s 480ms/step - loss: 0.1883 - accuracy: 0.9237 - val_loss: 0.2917 - val_accuracy: 0.8966\n",
            "\n",
            "Epoch 00089: saving model to /content/gdrive/MyDrive/VGG19_cp/check_point_VGG19.hdf5\n",
            "Epoch 90/100\n",
            "130/130 [==============================] - 63s 481ms/step - loss: 0.1578 - accuracy: 0.9385 - val_loss: 0.2592 - val_accuracy: 0.8999\n",
            "\n",
            "Epoch 00090: saving model to /content/gdrive/MyDrive/VGG19_cp/check_point_VGG19.hdf5\n",
            "Epoch 91/100\n",
            "130/130 [==============================] - 63s 481ms/step - loss: 0.1784 - accuracy: 0.9280 - val_loss: 0.2546 - val_accuracy: 0.9007\n",
            "\n",
            "Epoch 00091: saving model to /content/gdrive/MyDrive/VGG19_cp/check_point_VGG19.hdf5\n",
            "Epoch 92/100\n",
            "130/130 [==============================] - 62s 479ms/step - loss: 0.1886 - accuracy: 0.9199 - val_loss: 0.2401 - val_accuracy: 0.9016\n",
            "\n",
            "Epoch 00092: saving model to /content/gdrive/MyDrive/VGG19_cp/check_point_VGG19.hdf5\n",
            "Epoch 93/100\n",
            "130/130 [==============================] - 63s 481ms/step - loss: 0.1604 - accuracy: 0.9376 - val_loss: 0.2539 - val_accuracy: 0.9007\n",
            "\n",
            "Epoch 00093: saving model to /content/gdrive/MyDrive/VGG19_cp/check_point_VGG19.hdf5\n",
            "Epoch 94/100\n",
            "130/130 [==============================] - 62s 479ms/step - loss: 0.1664 - accuracy: 0.9340 - val_loss: 0.2614 - val_accuracy: 0.9024\n",
            "\n",
            "Epoch 00094: saving model to /content/gdrive/MyDrive/VGG19_cp/check_point_VGG19.hdf5\n",
            "Epoch 95/100\n",
            "130/130 [==============================] - 63s 481ms/step - loss: 0.1644 - accuracy: 0.9343 - val_loss: 0.3530 - val_accuracy: 0.8759\n",
            "\n",
            "Epoch 00095: saving model to /content/gdrive/MyDrive/VGG19_cp/check_point_VGG19.hdf5\n",
            "Epoch 96/100\n",
            "130/130 [==============================] - 62s 480ms/step - loss: 0.1522 - accuracy: 0.9383 - val_loss: 0.2740 - val_accuracy: 0.9007\n",
            "\n",
            "Epoch 00096: saving model to /content/gdrive/MyDrive/VGG19_cp/check_point_VGG19.hdf5\n",
            "Epoch 97/100\n",
            "130/130 [==============================] - 62s 477ms/step - loss: 0.1820 - accuracy: 0.9326 - val_loss: 0.2508 - val_accuracy: 0.9049\n",
            "\n",
            "Epoch 00097: saving model to /content/gdrive/MyDrive/VGG19_cp/check_point_VGG19.hdf5\n",
            "Epoch 98/100\n",
            "130/130 [==============================] - 63s 481ms/step - loss: 0.1480 - accuracy: 0.9445 - val_loss: 0.4332 - val_accuracy: 0.8544\n",
            "\n",
            "Epoch 00098: saving model to /content/gdrive/MyDrive/VGG19_cp/check_point_VGG19.hdf5\n",
            "Epoch 99/100\n",
            "130/130 [==============================] - 62s 478ms/step - loss: 0.2230 - accuracy: 0.9113 - val_loss: 0.2516 - val_accuracy: 0.9041\n",
            "\n",
            "Epoch 00099: saving model to /content/gdrive/MyDrive/VGG19_cp/check_point_VGG19.hdf5\n",
            "Epoch 100/100\n",
            "130/130 [==============================] - 62s 479ms/step - loss: 0.1498 - accuracy: 0.9398 - val_loss: 0.4507 - val_accuracy: 0.8519\n",
            "\n",
            "Epoch 00100: saving model to /content/gdrive/MyDrive/VGG19_cp/check_point_VGG19.hdf5\n"
          ],
          "name": "stdout"
        }
      ]
    },
    {
      "cell_type": "code",
      "metadata": {
        "colab": {
          "base_uri": "https://localhost:8080/",
          "height": 359
        },
        "id": "vl43y9OTQl4x",
        "outputId": "5c66c5ad-4b34-4374-d568-0e361c0e0e65"
      },
      "source": [
        "import pandas as pd\n",
        "df=pd.read_csv(\"/content/gdrive/MyDrive/VGG19_cp/logs_VGG19.csv\")\n",
        "df.head(10)"
      ],
      "execution_count": null,
      "outputs": [
        {
          "output_type": "execute_result",
          "data": {
            "text/html": [
              "<div>\n",
              "<style scoped>\n",
              "    .dataframe tbody tr th:only-of-type {\n",
              "        vertical-align: middle;\n",
              "    }\n",
              "\n",
              "    .dataframe tbody tr th {\n",
              "        vertical-align: top;\n",
              "    }\n",
              "\n",
              "    .dataframe thead th {\n",
              "        text-align: right;\n",
              "    }\n",
              "</style>\n",
              "<table border=\"1\" class=\"dataframe\">\n",
              "  <thead>\n",
              "    <tr style=\"text-align: right;\">\n",
              "      <th></th>\n",
              "      <th>loss</th>\n",
              "      <th>val_loss</th>\n",
              "      <th>acc</th>\n",
              "      <th>val_acc</th>\n",
              "    </tr>\n",
              "  </thead>\n",
              "  <tbody>\n",
              "    <tr>\n",
              "      <th>0</th>\n",
              "      <td>1.283040</td>\n",
              "      <td>0.397549</td>\n",
              "      <td>0.687319</td>\n",
              "      <td>0.838710</td>\n",
              "    </tr>\n",
              "    <tr>\n",
              "      <th>1</th>\n",
              "      <td>0.514704</td>\n",
              "      <td>0.409023</td>\n",
              "      <td>0.797975</td>\n",
              "      <td>0.828784</td>\n",
              "    </tr>\n",
              "    <tr>\n",
              "      <th>2</th>\n",
              "      <td>0.545292</td>\n",
              "      <td>0.458370</td>\n",
              "      <td>0.791948</td>\n",
              "      <td>0.831266</td>\n",
              "    </tr>\n",
              "    <tr>\n",
              "      <th>3</th>\n",
              "      <td>0.387422</td>\n",
              "      <td>0.352138</td>\n",
              "      <td>0.840164</td>\n",
              "      <td>0.861042</td>\n",
              "    </tr>\n",
              "    <tr>\n",
              "      <th>4</th>\n",
              "      <td>0.368736</td>\n",
              "      <td>0.297523</td>\n",
              "      <td>0.852700</td>\n",
              "      <td>0.879239</td>\n",
              "    </tr>\n",
              "    <tr>\n",
              "      <th>5</th>\n",
              "      <td>0.362326</td>\n",
              "      <td>0.613646</td>\n",
              "      <td>0.845950</td>\n",
              "      <td>0.765095</td>\n",
              "    </tr>\n",
              "    <tr>\n",
              "      <th>6</th>\n",
              "      <td>0.358404</td>\n",
              "      <td>0.338268</td>\n",
              "      <td>0.853423</td>\n",
              "      <td>0.873449</td>\n",
              "    </tr>\n",
              "    <tr>\n",
              "      <th>7</th>\n",
              "      <td>0.341682</td>\n",
              "      <td>0.300430</td>\n",
              "      <td>0.858727</td>\n",
              "      <td>0.875931</td>\n",
              "    </tr>\n",
              "    <tr>\n",
              "      <th>8</th>\n",
              "      <td>0.320620</td>\n",
              "      <td>0.341333</td>\n",
              "      <td>0.873674</td>\n",
              "      <td>0.866005</td>\n",
              "    </tr>\n",
              "    <tr>\n",
              "      <th>9</th>\n",
              "      <td>0.301378</td>\n",
              "      <td>0.507173</td>\n",
              "      <td>0.878496</td>\n",
              "      <td>0.799835</td>\n",
              "    </tr>\n",
              "  </tbody>\n",
              "</table>\n",
              "</div>"
            ],
            "text/plain": [
              "       loss  val_loss       acc   val_acc\n",
              "0  1.283040  0.397549  0.687319  0.838710\n",
              "1  0.514704  0.409023  0.797975  0.828784\n",
              "2  0.545292  0.458370  0.791948  0.831266\n",
              "3  0.387422  0.352138  0.840164  0.861042\n",
              "4  0.368736  0.297523  0.852700  0.879239\n",
              "5  0.362326  0.613646  0.845950  0.765095\n",
              "6  0.358404  0.338268  0.853423  0.873449\n",
              "7  0.341682  0.300430  0.858727  0.875931\n",
              "8  0.320620  0.341333  0.873674  0.866005\n",
              "9  0.301378  0.507173  0.878496  0.799835"
            ]
          },
          "metadata": {
            "tags": []
          },
          "execution_count": 12
        }
      ]
    },
    {
      "cell_type": "code",
      "metadata": {
        "id": "IkdOnPZxAmGK"
      },
      "source": [
        ""
      ],
      "execution_count": null,
      "outputs": []
    },
    {
      "cell_type": "code",
      "metadata": {
        "colab": {
          "base_uri": "https://localhost:8080/",
          "height": 643
        },
        "id": "9Uen_q53dTez",
        "outputId": "e1c184e0-3b4b-4933-80c4-828571e5fb11"
      },
      "source": [
        "# plot the training loss and accuracy\n",
        "plt.style.use(\"ggplot\")\n",
        "plt.figure(figsize=(10,10))\n",
        "N = 100\n",
        "plt.plot(np.arange(0, N), df[\"loss\"], label=\"train_loss\")\n",
        "plt.plot(np.arange(0, N), df[\"val_loss\"], label=\"val_loss\")\n",
        "plt.plot(np.arange(0, N), df[\"acc\"], label=\"train_acc\")\n",
        "plt.plot(np.arange(0, N), df[\"val_acc\"], label=\"val_acc\")\n",
        "plt.title(\"Training Loss and Accuracy\")\n",
        "plt.xlabel(\"Epoch #\")\n",
        "plt.ylabel(\"Loss/Accuracy\")\n",
        "plt.legend(loc=\"upper left\")\n"
      ],
      "execution_count": null,
      "outputs": [
        {
          "output_type": "execute_result",
          "data": {
            "text/plain": [
              "<matplotlib.legend.Legend at 0x7fc97ba3b5d0>"
            ]
          },
          "metadata": {
            "tags": []
          },
          "execution_count": 12
        },
        {
          "output_type": "display_data",
          "data": {
            "image/png": "[encoded data removed]",
            "text/plain": [
              "<Figure size 720x720 with 1 Axes>"
            ]
          },
          "metadata": {
            "tags": []
          }
        }
      ]
    },
    {
      "cell_type": "code",
      "metadata": {
        "id": "xrunYNysyp1j"
      },
      "source": [
        "from tensorflow.keras.models import load_model\n",
        "\n",
        "model.save('/content/gdrive/MyDrive/VGG19_cp/model_VGG19.hdf5')"
      ],
      "execution_count": null,
      "outputs": []
    },
    {
      "cell_type": "code",
      "metadata": {
        "id": "dgQ1Jjw-0-De",
        "colab": {
          "base_uri": "https://localhost:8080/"
        },
        "outputId": "03bb2d41-d978-43a0-9f7f-6eb8fc452805"
      },
      "source": [
        "# load the image\n",
        "image = cv2.imread('/content/gdrive/MyDrive/COVID-19_Radiography_Dataset/Viral Pneumonia/Viral Pneumonia-667.png')\n",
        "output = image.copy()\n",
        "print(image.shape)\n",
        "# pre-process the image for classification\n",
        "image = cv2.resize(image, (224, 224))\n",
        "print(image.shape)\n",
        "image = image.astype(\"float\") / 255.0\n",
        "image = img_to_array(image)\n",
        "image = np.expand_dims(image, axis=0)\n",
        "print(image.shape)"
      ],
      "execution_count": null,
      "outputs": [
        {
          "output_type": "stream",
          "text": [
            "(299, 299, 3)\n",
            "(224, 224, 3)\n",
            "(1, 224, 224, 3)\n"
          ],
          "name": "stdout"
        }
      ]
    },
    {
      "cell_type": "code",
      "metadata": {
        "id": "NnrjK2Kl3tqX"
      },
      "source": [
        "from tensorflow.keras.models import load_model\n",
        "\n",
        "model = load_model('/content/gdrive/MyDrive/VGG19_cp/model_VGG19.hdf5')\n"
      ],
      "execution_count": null,
      "outputs": []
    },
    {
      "cell_type": "code",
      "metadata": {
        "colab": {
          "base_uri": "https://localhost:8080/",
          "height": 180
        },
        "id": "onfHGStVRjov",
        "outputId": "35933538-61cf-466b-b903-d85ae6bc87b6"
      },
      "source": [
        "import pickle\n",
        "pickle.dump(model,open('model.pkl','wb'))"
      ],
      "execution_count": null,
      "outputs": [
        {
          "output_type": "error",
          "ename": "TypeError",
          "evalue": "ignored",
          "traceback": [
            "\u001b[0;31m---------------------------------------------------------------------------\u001b[0m",
            "\u001b[0;31mTypeError\u001b[0m                                 Traceback (most recent call last)",
            "\u001b[0;32m<ipython-input-8-36e2be473ba5>\u001b[0m in \u001b[0;36m<module>\u001b[0;34m()\u001b[0m\n\u001b[1;32m      1\u001b[0m \u001b[0;32mimport\u001b[0m \u001b[0mpickle\u001b[0m\u001b[0;34m\u001b[0m\u001b[0;34m\u001b[0m\u001b[0m\n\u001b[0;32m----> 2\u001b[0;31m \u001b[0mpickle\u001b[0m\u001b[0;34m.\u001b[0m\u001b[0mdump\u001b[0m\u001b[0;34m(\u001b[0m\u001b[0mmodel\u001b[0m\u001b[0;34m,\u001b[0m\u001b[0mopen\u001b[0m\u001b[0;34m(\u001b[0m\u001b[0;34m'model.pkl'\u001b[0m\u001b[0;34m,\u001b[0m\u001b[0;34m'wb'\u001b[0m\u001b[0;34m)\u001b[0m\u001b[0;34m)\u001b[0m\u001b[0;34m\u001b[0m\u001b[0;34m\u001b[0m\u001b[0m\n\u001b[0m",
            "\u001b[0;31mTypeError\u001b[0m: can't pickle weakref objects"
          ]
        }
      ]
    },
    {
      "cell_type": "code",
      "metadata": {
        "colab": {
          "base_uri": "https://localhost:8080/"
        },
        "id": "wXVgP2pv7gTE",
        "outputId": "d99ddb42-98fb-4d3b-c6c2-a232a9e1ab0f"
      },
      "source": [
        "# classify the input image\n",
        "print(\"[INFO] classifying image...\")\n",
        "proba = model.predict(image)[0]\n",
        "idx = np.argmax(proba)\n",
        "arr=['Covid','Normal','Pneumonia']\n",
        "label=arr[idx]"
      ],
      "execution_count": null,
      "outputs": [
        {
          "output_type": "stream",
          "text": [
            "[INFO] classifying image...\n"
          ],
          "name": "stdout"
        }
      ]
    },
    {
      "cell_type": "code",
      "metadata": {
        "colab": {
          "base_uri": "https://localhost:8080/",
          "height": 333
        },
        "id": "I31C2Hc53gM_",
        "outputId": "914b06a6-1d0c-4beb-aebe-01fb3967a97b"
      },
      "source": [
        "from google.colab.patches import cv2_imshow\n",
        "cv2_imshow(output)\n",
        "label = \"{}: {:.2f}% \".format(label, proba[idx] * 100)\n",
        "output = imutils.resize(output, width=400)\n",
        "cv2.putText(output, label, (10, 25),  cv2.FONT_HERSHEY_SIMPLEX,\n",
        "\t0.7, (0, 255, 0), 2)\n",
        "# show the output image\n",
        "print(\"[INFO] {}\".format(label))"
      ],
      "execution_count": null,
      "outputs": [
        {
          "output_type": "display_data",
          "data": {
            "image/png": "[encoded data removed]",
            "text/plain": [
              "<PIL.Image.Image image mode=RGB size=299x299 at 0x7EFD60655050>"
            ]
          },
          "metadata": {
            "tags": []
          }
        },
        {
          "output_type": "stream",
          "text": [
            "[INFO] Pneumonia: 92.73% \n"
          ],
          "name": "stdout"
        }
      ]
    },
    {
      "cell_type": "code",
      "metadata": {
        "colab": {
          "base_uri": "https://localhost:8080/"
        },
        "id": "Yz9Qji9oJht-",
        "outputId": "ef0c6368-cf4a-465c-96a3-8bfab1520126"
      },
      "source": [
        "train_generator.class_indices"
      ],
      "execution_count": null,
      "outputs": [
        {
          "output_type": "execute_result",
          "data": {
            "text/plain": [
              "{'COVID': 0, 'Normal': 1, 'Viral Pneumonia': 2}"
            ]
          },
          "metadata": {
            "tags": []
          },
          "execution_count": 19
        }
      ]
    },
    {
      "cell_type": "code",
      "metadata": {
        "id": "0XvF8VXwJwaC"
      },
      "source": [
        "y_actual=[]\n",
        "y_test=[]"
      ],
      "execution_count": null,
      "outputs": []
    },
    {
      "cell_type": "code",
      "metadata": {
        "id": "lDpvBPhBKkiI"
      },
      "source": [
        "import os\n",
        "from keras.preprocessing import image\n",
        "\n",
        "for i in os.listdir(\"/content/gdrive/MyDrive/Test/COVID/\"):\n",
        "  img=image.load_img(\"/content/gdrive/MyDrive/Test/COVID/\"+i,target_size=(224,224))\n",
        "  img=image.img_to_array(img)\n",
        "  img=np.expand_dims(img,axis=0)\n",
        "  idx=np.argmax(model.predict(img)[0])\n",
        "  y_test.append(idx)\n",
        "  y_actual.append(0)"
      ],
      "execution_count": null,
      "outputs": []
    },
    {
      "cell_type": "code",
      "metadata": {
        "id": "t51P8qxEL4zJ"
      },
      "source": [
        "for i in os.listdir(\"/content/gdrive/MyDrive/Test/Normal/\"):\n",
        "  img=image.load_img(\"/content/gdrive/MyDrive/Test/Normal/\"+i,target_size=(224,224))\n",
        "  img=image.img_to_array(img)\n",
        "  img=np.expand_dims(img,axis=0)\n",
        "  idx=np.argmax(model.predict(img)[0])\n",
        "  y_test.append(idx)\n",
        "  y_actual.append(1)"
      ],
      "execution_count": null,
      "outputs": []
    },
    {
      "cell_type": "code",
      "metadata": {
        "id": "3QY5FT7TL6Mr"
      },
      "source": [
        "for i in os.listdir(\"/content/gdrive/MyDrive/Test/Viral Pneumonia/\"):\n",
        "  img=image.load_img(\"/content/gdrive/MyDrive/Test/Viral Pneumonia/\"+i,target_size=(224,224))\n",
        "  img=image.img_to_array(img)\n",
        "  img=np.expand_dims(img,axis=0)\n",
        "  idx=np.argmax(model.predict(img)[0])\n",
        "  y_test.append(idx)\n",
        "  y_actual.append(2)"
      ],
      "execution_count": null,
      "outputs": []
    },
    {
      "cell_type": "code",
      "metadata": {
        "id": "GSFGNkItZOEm"
      },
      "source": [
        "y_actual=np.array(y_actual)\n",
        "y_test=np.array(y_test)"
      ],
      "execution_count": null,
      "outputs": []
    },
    {
      "cell_type": "code",
      "metadata": {
        "id": "ffmsN6NMZW0x"
      },
      "source": [
        "from sklearn.metrics import confusion_matrix\n",
        "cm=confusion_matrix(y_actual,y_test)"
      ],
      "execution_count": null,
      "outputs": []
    },
    {
      "cell_type": "code",
      "metadata": {
        "colab": {
          "base_uri": "https://localhost:8080/",
          "height": 282
        },
        "id": "6alhTS3YZmWB",
        "outputId": "6663ccc8-a4d1-4f5a-a2f5-05fc416dda3c"
      },
      "source": [
        "import seaborn as sns\n",
        "sns.heatmap(cm,cmap=\"plasma\",annot=True)"
      ],
      "execution_count": null,
      "outputs": [
        {
          "output_type": "execute_result",
          "data": {
            "text/plain": [
              "<matplotlib.axes._subplots.AxesSubplot at 0x7efc8c170210>"
            ]
          },
          "metadata": {
            "tags": []
          },
          "execution_count": 55
        },
        {
          "output_type": "display_data",
          "data": {
            "image/png": "[encoded data removed]",
            "text/plain": [
              "<Figure size 432x288 with 2 Axes>"
            ]
          },
          "metadata": {
            "tags": [],
            "needs_background": "light"
          }
        }
      ]
    },
    {
      "cell_type": "code",
      "metadata": {
        "colab": {
          "base_uri": "https://localhost:8080/"
        },
        "id": "tvZfZCLAhfWz",
        "outputId": "2afdc6a8-a179-448d-9638-825d41c8f8d3"
      },
      "source": [
        ""
      ],
      "execution_count": null,
      "outputs": [
        {
          "output_type": "execute_result",
          "data": {
            "text/plain": [
              "(1209,)"
            ]
          },
          "metadata": {
            "tags": []
          },
          "execution_count": 49
        }
      ]
    }
  ]
}